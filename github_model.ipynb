{
  "nbformat": 4,
  "nbformat_minor": 0,
  "metadata": {
    "colab": {
      "provenance": [],
      "gpuType": "T4"
    },
    "kernelspec": {
      "name": "python3",
      "display_name": "Python 3"
    },
    "language_info": {
      "name": "python"
    },
    "accelerator": "GPU"
  },
  "cells": [
    {
      "cell_type": "code",
      "execution_count": null,
      "metadata": {
        "id": "ynH6-2Urd2YA"
      },
      "outputs": [],
      "source": [
        "\n",
        "\n",
        "! pip install azure-ai-inference\n"
      ]
    },
    {
      "cell_type": "code",
      "source": [
        "GITHUB_TOKEN=\"GITHUB_TOKEN\""
      ],
      "metadata": {
        "id": "AhzfmTQ3hg2b"
      },
      "execution_count": 11,
      "outputs": []
    },
    {
      "cell_type": "code",
      "source": [
        "\"\"\"Run this model in Python\n",
        "\n",
        "> pip install azure-ai-inference\n",
        "\"\"\"\n",
        "import os\n",
        "from azure.ai.inference import ChatCompletionsClient\n",
        "from azure.ai.inference.models import SystemMessage\n",
        "from azure.ai.inference.models import UserMessage\n",
        "from azure.core.credentials import AzureKeyCredential\n",
        "\n",
        "# To authenticate with the model you will need to generate a personal access token (PAT) in your GitHub settings.\n",
        "# Create your PAT token by following instructions here: https://docs.github.com/en/authentication/keeping-your-account-and-data-secure/managing-your-personal-access-tokens\n",
        "client = ChatCompletionsClient(\n",
        "    endpoint=\"https://models.inference.ai.azure.com\",\n",
        "    credential=AzureKeyCredential(GITHUB_TOKEN),\n",
        ")\n",
        "\n",
        "response = client.complete(\n",
        "    messages=[\n",
        "        SystemMessage(content=\"\"\"\"\"\"),\n",
        "        UserMessage(content=\"Can you explain the basics of machine learning?\"),\n",
        "    ],\n",
        "    model=\"Mistral-large-2407\",\n",
        "    temperature=0.7,\n",
        "    max_tokens=4096,\n",
        "    top_p=1\n",
        ")\n",
        "\n",
        "print(response.choices[0].message.content)\n"
      ],
      "metadata": {
        "colab": {
          "base_uri": "https://localhost:8080/"
        },
        "id": "eN2eer1FeBqI",
        "outputId": "62c9794f-efa0-4c03-cb2b-d9fe0325340f"
      },
      "execution_count": 12,
      "outputs": [
        {
          "output_type": "stream",
          "name": "stdout",
          "text": [
            "Absolutely, I'd be happy to explain the basics of machine learning!\n",
            "\n",
            "1. **What is Machine Learning?**\n",
            "   Machine Learning (ML) is a subset of artificial intelligence that involves training models to make predictions or decisions without being explicitly programmed. Instead of following static instructions, ML algorithms learn from data.\n",
            "\n",
            "2. **Types of Machine Learning:**\n",
            "\n",
            "   - **Supervised Learning:** In this type, the model is trained on a labeled dataset, meaning it includes both the input data and the corresponding output data. The goal is to learn a mapping function from input to output. For example:\n",
            "     - Predicting house prices based on features like size, location, etc.\n",
            "     - Classifying emails into spam or not spam.\n",
            "\n",
            "   - **Unsupervised Learning:** Here, the model is trained on an unlabeled dataset, meaning it only has input data. The goal is to find patterns, structures, or relationships within the data. For example:\n",
            "     - Clustering customers based on their purchasing behavior.\n",
            "     - Dimensionality reduction for data visualization.\n",
            "\n",
            "   - **Reinforcement Learning:** This type involves an agent learning to make decisions by performing actions in an environment to achieve a goal. The agent receives rewards or penalties based on its actions. For example:\n",
            "     - A bot learning to play a game through trial and error.\n",
            "     - A robot learning to navigate a maze.\n",
            "\n",
            "3. **Key Concepts in Machine Learning:**\n",
            "\n",
            "   - **Model:** The system or algorithm that makes predictions or decisions.\n",
            "\n",
            "   - **Features:** The input variables that the model uses to make predictions.\n",
            "\n",
            "   - **Labels/Targets:** The output variable that the model predicts (in supervised learning).\n",
            "\n",
            "   - **Training:** The process of feeding data into the model to learn the underlying patterns.\n",
            "\n",
            "   - **Testing:** The process of evaluating the model's performance on unseen data.\n",
            "\n",
            "   - **Overfitting/Underfitting:** Overfitting occurs when the model learns the training data too well and performs poorly on unseen data. Underfitting occurs when the model is too simple to capture the underlying patterns in the data.\n",
            "\n",
            "4. **Steps in a Machine Learning Project:**\n",
            "\n",
            "   - Define the problem.\n",
            "   - Prepare and clean the data.\n",
            "   - Select and engineer features.\n",
            "   - Choose a suitable model.\n",
            "   - Train the model.\n",
            "   - Evaluate the model.\n",
            "   - Tune and optimize the model.\n",
            "   - Deploy the model to make predictions on new data.\n",
            "\n",
            "5. **Popular Machine Learning Algorithms:**\n",
            "\n",
            "   - Linear Regression\n",
            "   - Logistic Regression\n",
            "   - Decision Trees and Random Forests\n",
            "   - Support Vector Machines (SVM)\n",
            "   - K-Means Clustering\n",
            "   - Neural Networks and Deep Learning\n",
            "\n",
            "Machine learning is a vast and evolving field, but these are the basic concepts to get you started!\n"
          ]
        }
      ]
    },
    {
      "cell_type": "code",
      "source": [],
      "metadata": {
        "id": "lMfioS_viJ5H"
      },
      "execution_count": null,
      "outputs": []
    }
  ]
}